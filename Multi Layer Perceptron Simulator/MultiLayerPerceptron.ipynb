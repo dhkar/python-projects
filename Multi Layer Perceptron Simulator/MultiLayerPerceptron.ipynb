{
 "cells": [
  {
   "cell_type": "markdown",
   "metadata": {},
   "source": [
    "### Andhika Rahadian\n",
    "### 13218030\n",
    "### Run All untuk Menjalankan Seluruh Proses Training MultiLayer Perceptron untuk XOR Gate"
   ]
  },
  {
   "cell_type": "code",
   "execution_count": 17,
   "metadata": {},
   "outputs": [
    {
     "name": "stdout",
     "output_type": "stream",
     "text": [
      "Initial Weights and Biases:  (using random uniform)\n",
      "W1: \n",
      "[[0.73879097 0.52976883]\n",
      " [0.43101837 0.67295347]] \n",
      "W2: \n",
      "[[0.72646627]\n",
      " [0.41994305]] \n",
      "B1: [[0.74378476 0.65592924]] \n",
      "B2: [[0.89042762]]\n",
      "\n",
      "Weight and Bias after Training: \n",
      "W1: \n",
      "[[5.68670497 3.49749701]\n",
      " [5.72125766 3.50384728]] \n",
      "W2: \n",
      "[[ 7.12913283]\n",
      " [-7.73273275]] \n",
      "B1: [[-2.32324183 -5.34733202]] \n",
      "B2: [[-3.18947403]]\n",
      "\n",
      "Test Results: \n",
      "Input Data (x1,x2) : [0 0] | Actual Output (y): [0] | Predicted Output (y'): [0.06977965]\n",
      "Input Data (x1,x2) : [0 1] | Actual Output (y): [1] | Predicted Output (y'): [0.9341575]\n",
      "Input Data (x1,x2) : [1 0] | Actual Output (y): [1] | Predicted Output (y'): [0.93403074]\n",
      "Input Data (x1,x2) : [1 1] | Actual Output (y): [0] | Predicted Output (y'): [0.07227499]\n"
     ]
    }
   ],
   "source": [
    "import numpy as np\n",
    "import matplotlib.pyplot as plt\n",
    "class MultilayerPerceptron:\n",
    "    def __init__(self, inp, target,n_inp, n_hidden, n_out, alpha, epoch):\n",
    "        self.trainData = inp\n",
    "        self.testData = inp\n",
    "        self.target = target.T\n",
    "        self.alpha = alpha\n",
    "        self.epoch = epoch\n",
    "\n",
    "        # Init weights dengan random value\n",
    "        self.W1 = np.random.uniform(size=(n_inp, n_hidden))\n",
    "        self.W2 = np.random.uniform(size=(n_hidden, n_out))\n",
    "\n",
    "        # Init bias dengan random value\n",
    "        self.B1 = np.random.uniform(size=(1,n_hidden))\n",
    "        self.B2 = np.random.uniform(size=(1,n_out))\n",
    "\n",
    "        print(\"Initial Weights and Biases:  (using random uniform)\")\n",
    "        print(\"W1: \\n{} \\nW2: \\n{} \\nB1: {} \\nB2: {}\".format(self.W1,self.W2,self.B1,self.B2))\n",
    "\n",
    "\n",
    "    def actifunction(self,z,mode):\n",
    "        if (mode == \"linear\"):\n",
    "            return z\n",
    "        if (mode == \"sigmoid\"):\n",
    "            return 1/(1 + np.exp(-z))\n",
    "        if (mode == \"hardlim\"):\n",
    "            if z > 0:\n",
    "                return 1\n",
    "            else:\n",
    "                return 0\n",
    "        if (mode == \"relu\"):\n",
    "            if z > 0:\n",
    "                return z\n",
    "            else:\n",
    "                return 0\n",
    "    \n",
    "    def derivativeActifunction(self,a,mode):\n",
    "        if (mode == \"linear\"):\n",
    "            return 1\n",
    "        if (mode == \"sigmoid\"):\n",
    "            return a*(1-a)\n",
    "        if (mode == \"relu\"):\n",
    "            if a > 0:\n",
    "                return 1\n",
    "            else:\n",
    "                return 0\n",
    "\n",
    "\n",
    "    def forwardpath(self):\n",
    "        # z1, a1 : z hidden layer 1, W1 Weights layer 0 ke 1, B1 biases layer 0 ke 1\n",
    "        self.z1 = np.dot(self.trainData, self.W1) + self.B1\n",
    "        self.a1 = self.actifunction(self.z1,mode=\"sigmoid\")\n",
    "\n",
    "        # z2, a2 : z output layer (layer 2) W2 Weights layer 1 ke 2, B1 biases layer 1 ke 2\n",
    "        self.z2 = np.dot(self.a1, self.W2) + self.B2\n",
    "        self.a2 = self.actifunction(self.z2,mode=\"sigmoid\")\n",
    "      \n",
    "        return self.a2\n",
    "    \n",
    "    #learning rule\n",
    "    def backpropagation(self):\n",
    "        e = (self.target - self.a2)\n",
    "        # delta cost function F terhadap W1 dFdW1\n",
    "        # dFdW1 = error * da2/dz2 * dz2/da1 * da1/dz1 * (dz1/dW1)T\n",
    "        dFdW1 = np.matmul(self.trainData.T , (((e * self.derivativeActifunction(self.a2,mode=\"sigmoid\")) * self.W2.T) * self.derivativeActifunction(self.a1,mode=\"sigmoid\")))\n",
    "\n",
    "        # delta cost function F terhadap W2 dFdW2\n",
    "        # dFdW2 = error * da2/dz2 * (dz2/dW2)T\n",
    "        dFdW2 = np.matmul(self.a1.T , (e * self.derivativeActifunction(self.a2,mode=\"sigmoid\")))\n",
    "\n",
    "        # Weight update\n",
    "        self.W1 = self.W1 + self.alpha * dFdW1\n",
    "        self.W2 = self.W2 + self.alpha * dFdW2\n",
    "\n",
    "        # Bias update\n",
    "        self.B1 = self.B1 +  np.sum(self.alpha * ((e * self.derivativeActifunction(self.a2,mode=\"sigmoid\")) * self.W2.T) * self.derivativeActifunction(self.a1,mode=\"sigmoid\"), axis=0)\n",
    "        self.B2 = self.B2 + np.sum(self.alpha * e * self.derivativeActifunction(self.a2,mode=\"sigmoid\"), axis=0)\n",
    "\n",
    "    def training(self):\n",
    "        Losses = []\n",
    "        for x in range(self.epoch):\n",
    "            self.forwardpath()\n",
    "            loss = 0.5 * (self.target - self.a2) ** 2\n",
    "            Losses.append(np.sum(loss)/4)\n",
    "            self.backpropagation()\n",
    "        return Losses\n",
    "    \n",
    "    def evaluate(self):\n",
    "        #loss = mean squared error\n",
    "        test_result = self.forwardpath()\n",
    "        print(\"\\nWeight and Bias after Training: \")\n",
    "        print(\"W1: \\n{} \\nW2: \\n{} \\nB1: {} \\nB2: {}\".format(self.W1,self.W2,self.B1,self.B2))\n",
    "\n",
    "        print(\"\\nTest Results: \")\n",
    "        print(\"Input Data (x1,x2) : {} | Actual Output (y): {} | Predicted Output (y'): {}\".format(self.trainData[0],self.target[0],test_result[0]))\n",
    "        print(\"Input Data (x1,x2) : {} | Actual Output (y): {} | Predicted Output (y'): {}\".format(self.trainData[1],self.target[1],test_result[1]))\n",
    "        print(\"Input Data (x1,x2) : {} | Actual Output (y): {} | Predicted Output (y'): {}\".format(self.trainData[2],self.target[2],test_result[2]))\n",
    "        print(\"Input Data (x1,x2) : {} | Actual Output (y): {} | Predicted Output (y'): {}\".format(self.trainData[3],self.target[3],test_result[3]))\n",
    "\n",
    "\n",
    "\n",
    "trainData = np.array(\n",
    "    [\n",
    "        [0, 0],\n",
    "        [0, 1],\n",
    "        [1, 0],\n",
    "        [1, 1]])\n",
    "\n",
    "targetXOR = np.array([[0,1,1,0]])\n",
    "\n",
    "# Instantiasi Objek Multilayer Perceptrion\n",
    "model = MultilayerPerceptron(trainData,targetXOR,n_inp=2,n_hidden=2,n_out=1,alpha=0.15,epoch=6000)\n",
    "\n",
    "# Array Losses yang didapatkan dari iterasi training\n",
    "Losses = model.training()\n",
    "\n",
    "# Testing dan Evaluasi\n",
    "model.evaluate()\n"
   ]
  },
  {
   "cell_type": "code",
   "execution_count": 19,
   "metadata": {},
   "outputs": [
    {
     "data": {
      "image/png": "[encoded data removed]",
      "text/plain": [
       "<Figure size 432x288 with 1 Axes>"
      ]
     },
     "metadata": {
      "needs_background": "light"
     },
     "output_type": "display_data"
    }
   ],
   "source": [
    "n = [i for i in range(1,501)]\n",
    "figure, axis = plt.subplots()\n",
    "plt.title('Plot Hasil Losses Training Dalam 150 epoch\\n')\n",
    "color = 'tab:red'\n",
    "axis.set_xlabel('\\nEpoch')\n",
    "axis.set_ylabel('Loss (Mean Square Error) Value', color=color)\n",
    "axis.plot(n[0:151], Losses[0:151], color=color)\n",
    "axis.tick_params(axis='y', labelcolor=color)"
   ]
  },
  {
   "cell_type": "markdown",
   "metadata": {},
   "source": []
  }
 ],
 "metadata": {
  "kernelspec": {
   "display_name": "Python 3.8.8 ('base')",
   "language": "python",
   "name": "python3"
  },
  "language_info": {
   "codemirror_mode": {
    "name": "ipython",
    "version": 3
   },
   "file_extension": ".py",
   "mimetype": "text/x-python",
   "name": "python",
   "nbconvert_exporter": "python",
   "pygments_lexer": "ipython3",
   "version": "3.8.8"
  },
  "orig_nbformat": 4,
  "vscode": {
   "interpreter": {
    "hash": "4500702dfa0be7e7d6eae8176f294860d8a6d09e1f59dfaa714d217e7873960b"
   }
  }
 },
 "nbformat": 4,
 "nbformat_minor": 2
}
